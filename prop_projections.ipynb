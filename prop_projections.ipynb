{
 "cells": [
  {
   "cell_type": "code",
   "execution_count": 33,
   "metadata": {},
   "outputs": [
    {
     "name": "stdout",
     "output_type": "stream",
     "text": [
      "\n",
      "Initial log joint probability = -88.6875\n",
      "Iteration  1. Log joint probability =    10.7738. Improved by 99.4613.\n",
      "Iteration  2. Log joint probability =    219.934. Improved by 209.16.\n",
      "Iteration  3. Log joint probability =    237.298. Improved by 17.364.\n",
      "Iteration  4. Log joint probability =    237.407. Improved by 0.109202.\n",
      "Iteration  5. Log joint probability =    237.471. Improved by 0.0638006.\n",
      "Iteration  6. Log joint probability =    237.486. Improved by 0.0151165.\n",
      "Iteration  7. Log joint probability =    237.893. Improved by 0.407346.\n",
      "Iteration  8. Log joint probability =    237.983. Improved by 0.0903855.\n",
      "Iteration  9. Log joint probability =    240.693. Improved by 2.70939.\n",
      "Iteration 10. Log joint probability =    240.738. Improved by 0.0447706.\n",
      "Iteration 11. Log joint probability =    241.694. Improved by 0.956202.\n",
      "Iteration 12. Log joint probability =    241.821. Improved by 0.127558.\n",
      "Iteration 13. Log joint probability =    241.988. Improved by 0.166547.\n",
      "Iteration 14. Log joint probability =    242.163. Improved by 0.174803.\n",
      "Iteration 15. Log joint probability =    242.341. Improved by 0.177803.\n",
      "Iteration 16. Log joint probability =    242.426. Improved by 0.0849679.\n",
      "Iteration 17. Log joint probability =    243.532. Improved by 1.10688.\n",
      "Iteration 18. Log joint probability =    243.637. Improved by 0.10492.\n",
      "Iteration 19. Log joint probability =    244.761. Improved by 1.12408.\n",
      "Iteration 20. Log joint probability =    246.153. Improved by 1.39202.\n",
      "Iteration 21. Log joint probability =    247.295. Improved by 1.14191.\n",
      "Iteration 22. Log joint probability =    247.407. Improved by 0.112028.\n",
      "Iteration 23. Log joint probability =    247.546. Improved by 0.138186.\n",
      "Iteration 24. Log joint probability =     248.46. Improved by 0.914173.\n",
      "Iteration 25. Log joint probability =    271.398. Improved by 22.9378.\n",
      "Iteration 26. Log joint probability =    272.624. Improved by 1.22626.\n",
      "Iteration 27. Log joint probability =    273.861. Improved by 1.23753.\n",
      "Iteration 28. Log joint probability =    297.888. Improved by 24.0264.\n",
      "Iteration 29. Log joint probability =    316.791. Improved by 18.9037.\n",
      "Iteration 30. Log joint probability =    334.841. Improved by 18.0496.\n",
      "Iteration 31. Log joint probability =    340.097. Improved by 5.25614.\n",
      "Iteration 32. Log joint probability =    406.594. Improved by 66.4967.\n",
      "Iteration 33. Log joint probability =    456.074. Improved by 49.4801.\n",
      "Iteration 34. Log joint probability =    477.377. Improved by 21.3032.\n",
      "Iteration 35. Log joint probability =    478.311. Improved by 0.933431.\n",
      "Iteration 36. Log joint probability =    483.471. Improved by 5.16048.\n",
      "Iteration 37. Log joint probability =    487.755. Improved by 4.28346.\n",
      "Iteration 38. Log joint probability =    490.679. Improved by 2.92429.\n",
      "Iteration 39. Log joint probability =    492.573. Improved by 1.89422.\n",
      "Iteration 40. Log joint probability =    492.896. Improved by 0.323005.\n",
      "Iteration 41. Log joint probability =    493.024. Improved by 0.127914.\n",
      "Iteration 42. Log joint probability =    493.168. Improved by 0.143647.\n",
      "Iteration 43. Log joint probability =    493.583. Improved by 0.415583.\n",
      "Iteration 44. Log joint probability =    493.875. Improved by 0.291215.\n",
      "Iteration 45. Log joint probability =    493.875. Improved by 0.000440671.\n",
      "Iteration 46. Log joint probability =     494.05. Improved by 0.174535.\n",
      "Iteration 47. Log joint probability =    494.151. Improved by 0.101515.\n",
      "Iteration 48. Log joint probability =    494.358. Improved by 0.206862.\n",
      "Iteration 49. Log joint probability =    494.467. Improved by 0.108709.\n",
      "Iteration 50. Log joint probability =    494.473. Improved by 0.00666135.\n",
      "Iteration 51. Log joint probability =    494.492. Improved by 0.0191897.\n",
      "Iteration 52. Log joint probability =    494.493. Improved by 0.000461201.\n",
      "Iteration 53. Log joint probability =    494.538. Improved by 0.0447486.\n",
      "Iteration 54. Log joint probability =    494.547. Improved by 0.00902514.\n",
      "Iteration 55. Log joint probability =    494.548. Improved by 0.000903375.\n",
      "Iteration 56. Log joint probability =    494.551. Improved by 0.00296644.\n",
      "Iteration 57. Log joint probability =    494.554. Improved by 0.00320851.\n",
      "Iteration 58. Log joint probability =    494.554. Improved by 0.000470273.\n",
      "Iteration 59. Log joint probability =    494.558. Improved by 0.0040946.\n",
      "Iteration 60. Log joint probability =     494.56. Improved by 0.0017385.\n",
      "Iteration 61. Log joint probability =    494.562. Improved by 0.0021834.\n",
      "Iteration 62. Log joint probability =    494.562. Improved by 6.07192e-05.\n",
      "Iteration 63. Log joint probability =    494.563. Improved by 0.000270875.\n",
      "Iteration 64. Log joint probability =    494.563. Improved by 0.000674803.\n",
      "Iteration 65. Log joint probability =    494.564. Improved by 0.000403717.\n",
      "Iteration 66. Log joint probability =    494.564. Improved by 0.000473637.\n",
      "Iteration 67. Log joint probability =    494.564. Improved by 8.67815e-05.\n",
      "Iteration 68. Log joint probability =    494.564. Improved by 0.00020719.\n",
      "Iteration 69. Log joint probability =    494.565. Improved by 0.000288462.\n",
      "Iteration 70. Log joint probability =    494.565. Improved by 0.00027017.\n",
      "Iteration 71. Log joint probability =    494.565. Improved by 0.000186987.\n",
      "Iteration 72. Log joint probability =    494.565. Improved by 7.54911e-05.\n",
      "Iteration 73. Log joint probability =    494.565. Improved by 6.17556e-06.\n",
      "Iteration 74. Log joint probability =    494.565. Improved by 2.0589e-05.\n",
      "Iteration 75. Log joint probability =    494.565. Improved by 2.05579e-05.\n",
      "Iteration 76. Log joint probability =    494.565. Improved by 2.05463e-05.\n",
      "Iteration 77. Log joint probability =    494.565. Improved by 2.43676e-05.\n",
      "Iteration 78. Log joint probability =    494.565. Improved by 1.1591e-05.\n",
      "Iteration 79. Log joint probability =    494.565. Improved by 2.05399e-05.\n",
      "Iteration 80. Log joint probability =    494.565. Improved by 1.4223e-05.\n",
      "Iteration 81. Log joint probability =    494.565. Improved by 4.32414e-06.\n",
      "Iteration 82. Log joint probability =    494.565. Improved by 8.44866e-06.\n",
      "Iteration 83. Log joint probability =    494.565. Improved by 1.75263e-06.\n",
      "Iteration 84. Log joint probability =    494.565. Improved by 6.40282e-06.\n",
      "Iteration 85. Log joint probability =    494.565. Improved by 2.89597e-06.\n",
      "Iteration 86. Log joint probability =    494.565. Improved by 9.76624e-07.\n",
      "Iteration 87. Log joint probability =    494.565. Improved by 2.35184e-07.\n",
      "Iteration 88. Log joint probability =    494.565. Improved by 1.97257e-08.\n",
      "Iteration 89. Log joint probability =    494.565. Improved by 8.3182e-07.\n",
      "Iteration 90. Log joint probability =    494.565. Improved by 5.97428e-07.\n",
      "Iteration 91. Log joint probability =    494.565. Improved by 1.72722e-07.\n",
      "Iteration 92. Log joint probability =    494.565. Improved by 9.97064e-08.\n",
      "Iteration 93. Log joint probability =    494.565. Improved by 2.44089e-07.\n",
      "Iteration 94. Log joint probability =    494.565. Improved by 4.92207e-09.\n"
     ]
    }
   ],
   "source": [
    "import pandas as pd\n",
    "from prophet import Prophet\n",
    "\n",
    "years = 20\n",
    "\n",
    "\n",
    "df = pd.read_csv('population_data_pre_1981.csv')\n",
    "df.columns = ['y', 'ds']\n",
    "m = Prophet(daily_seasonality=False, weekly_seasonality=False)\n",
    "m.fit(df)\n",
    "future = m.make_future_dataframe(periods=int(365.25 * years))\n",
    "forecast = m.predict(future)"
   ]
  },
  {
   "cell_type": "code",
   "execution_count": null,
   "metadata": {},
   "outputs": [],
   "source": [
    "forecast['yhat'] = forecast['yhat'].astype(int)\n",
    "forecast['ds'] = forecast['ds'].dt.year\n",
    "#forecast.to_csv('prophet_projections.csv', index_label=False, columns=['ds', 'yhat'])"
   ]
  },
  {
   "cell_type": "code",
   "execution_count": null,
   "metadata": {},
   "outputs": [],
   "source": [
    "import json\n",
    "from prophet.serialize import model_to_json, model_from_json\n",
    "\n",
    "with open('FBmodel.json', 'w') as fout:\n",
    "    json.dump(model_to_json(m), fout)"
   ]
  },
  {
   "cell_type": "code",
   "execution_count": null,
   "metadata": {},
   "outputs": [],
   "source": [
    "with open('FBModel.json', 'r') as fin:\n",
    "    j = model_from_json(json.load(fin))  # Load mode"
   ]
  },
  {
   "cell_type": "code",
   "execution_count": null,
   "metadata": {},
   "outputs": [],
   "source": [
    "future = j.make_future_dataframe(periods=int(365.25 * years))\n",
    "forecast = j.predict(future)"
   ]
  },
  {
   "cell_type": "code",
   "execution_count": null,
   "metadata": {},
   "outputs": [],
   "source": [
    "forecast = forecast[['ds','yhat']]"
   ]
  },
  {
   "cell_type": "code",
   "execution_count": null,
   "metadata": {},
   "outputs": [],
   "source": [
    "year_index = []\n",
    "for index,dates in enumerate(forecast['ds']):\n",
    "    if dates.month == 1 and dates.day == 1:\n",
    "        year_index.append(index)"
   ]
  }
 ],
 "metadata": {
  "interpreter": {
   "hash": "3c1a4828154d7e108a612c5472c020407bfcfb54a7fad7dd59301740ecd3afd5"
  },
  "kernelspec": {
   "display_name": "Python 3.9.5 64-bit ('venv': venv)",
   "language": "python",
   "name": "python3"
  },
  "language_info": {
   "codemirror_mode": {
    "name": "ipython",
    "version": 3
   },
   "file_extension": ".py",
   "mimetype": "text/x-python",
   "name": "python",
   "nbconvert_exporter": "python",
   "pygments_lexer": "ipython3",
   "version": "3.9.5"
  },
  "orig_nbformat": 4
 },
 "nbformat": 4,
 "nbformat_minor": 2
}
