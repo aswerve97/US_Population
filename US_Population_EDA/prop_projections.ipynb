{
 "cells": [
  {
   "cell_type": "code",
   "execution_count": null,
   "metadata": {},
   "outputs": [],
   "source": [
    "import pandas as pd\n",
    "from prophet import Prophet\n",
    "\n",
    "years = 20\n",
    "\n",
    "\n",
    "df = pd.read_csv('population_data_pre_1981.csv')\n",
    "df.columns = ['y', 'ds']\n",
    "m = Prophet(daily_seasonality=False, weekly_seasonality=False)\n",
    "m.fit(df)\n",
    "future = m.make_future_dataframe(periods=int(365.25 * years))\n",
    "forecast = m.predict(future)"
   ]
  },
  {
   "cell_type": "code",
   "execution_count": null,
   "metadata": {},
   "outputs": [],
   "source": [
    "forecast['yhat'] = forecast['yhat'].astype(int)\n",
    "forecast['ds'] = forecast['ds'].dt.year\n",
    "#forecast.to_csv('prophet_projections.csv', index_label=False, columns=['ds', 'yhat'])"
   ]
  },
  {
   "cell_type": "code",
   "execution_count": null,
   "metadata": {},
   "outputs": [],
   "source": [
    "import json\n",
    "from prophet.serialize import model_to_json, model_from_json\n",
    "\n",
    "with open('FBmodel.json', 'w') as fout:\n",
    "    json.dump(model_to_json(m), fout)"
   ]
  },
  {
   "cell_type": "code",
   "execution_count": null,
   "metadata": {},
   "outputs": [],
   "source": [
    "with open('FBModel.json', 'r') as fin:\n",
    "    j = model_from_json(json.load(fin))  # Load mode"
   ]
  },
  {
   "cell_type": "code",
   "execution_count": null,
   "metadata": {},
   "outputs": [],
   "source": [
    "future = j.make_future_dataframe(periods=int(365.25 * years))\n",
    "forecast = j.predict(future)"
   ]
  },
  {
   "cell_type": "code",
   "execution_count": null,
   "metadata": {},
   "outputs": [],
   "source": [
    "forecast = forecast[['ds','yhat']]"
   ]
  },
  {
   "cell_type": "code",
   "execution_count": null,
   "metadata": {},
   "outputs": [],
   "source": [
    "year_index = []\n",
    "for index,dates in enumerate(forecast['ds']):\n",
    "    if dates.month == 1 and dates.day == 1:\n",
    "        year_index.append(index)"
   ]
  }
 ],
 "metadata": {
  "interpreter": {
   "hash": "3c1a4828154d7e108a612c5472c020407bfcfb54a7fad7dd59301740ecd3afd5"
  },
  "kernelspec": {
   "display_name": "Python 3.9.5 64-bit ('venv': venv)",
   "language": "python",
   "name": "python3"
  },
  "language_info": {
   "codemirror_mode": {
    "name": "ipython",
    "version": 3
   },
   "file_extension": ".py",
   "mimetype": "text/x-python",
   "name": "python",
   "nbconvert_exporter": "python",
   "pygments_lexer": "ipython3",
   "version": "3.9.5"
  },
  "orig_nbformat": 4
 },
 "nbformat": 4,
 "nbformat_minor": 2
}
