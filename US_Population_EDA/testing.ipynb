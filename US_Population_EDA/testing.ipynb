{
 "cells": [
  {
   "cell_type": "code",
   "execution_count": null,
   "metadata": {},
   "outputs": [],
   "source": [
    "import pandas as pd\n",
    "from prophet import Prophet\n",
    "import datetime\n",
    "\n",
    "years = 20\n",
    "df = pd.read_csv('population_data_pre_1981.csv')\n",
    "df.columns = ['y', 'ds']\n",
    "m = Prophet(daily_seasonality=False, weekly_seasonality=False)\n",
    "m.fit(df)\n",
    "future = m.make_future_dataframe(periods=int(365.25 * years))\n",
    "forecast = m.predict(future)"
   ]
  },
  {
   "cell_type": "code",
   "execution_count": 47,
   "metadata": {},
   "outputs": [],
   "source": [
    "forecast['yhat'] = forecast['yhat'].apply(int)\n",
    "forecast = forecast[['ds','yhat']]"
   ]
  },
  {
   "cell_type": "code",
   "execution_count": 75,
   "metadata": {},
   "outputs": [
    {
     "name": "stdout",
     "output_type": "stream",
     "text": [
      "{1980: 227180602, 1981: 229371519, 1982: 231511542, 1983: 233721366, 1984: 235997007, 1985: 238187925, 1986: 240327947, 1987: 242537771, 1988: 244813412, 1989: 247004330, 1990: 249144352, 1991: 251354176, 1992: 253629818, 1993: 255820735, 1994: 257960758, 1995: 260170582, 1996: 262446223, 1997: 264637141, 1998: 266777163, 1999: 268986987, 2000: 271262628}\n"
     ]
    }
   ],
   "source": [
    "year_to_forecast = dict()\n",
    "for year in range(1980, 1981 + years):\n",
    "    for date,value in zip(forecast['ds'],forecast['yhat']):\n",
    "        if date == datetime.date(year=year,month=1,day=1):\n",
    "            year_to_forecast[date.year] = value\n",
    "\n",
    "print(year_to_forecast)\n"
   ]
  }
 ],
 "metadata": {
  "interpreter": {
   "hash": "3c1a4828154d7e108a612c5472c020407bfcfb54a7fad7dd59301740ecd3afd5"
  },
  "kernelspec": {
   "display_name": "Python 3.9.5 64-bit ('venv': venv)",
   "language": "python",
   "name": "python3"
  },
  "language_info": {
   "codemirror_mode": {
    "name": "ipython",
    "version": 3
   },
   "file_extension": ".py",
   "mimetype": "text/x-python",
   "name": "python",
   "nbconvert_exporter": "python",
   "pygments_lexer": "ipython3",
   "version": "3.9.5"
  },
  "orig_nbformat": 4
 },
 "nbformat": 4,
 "nbformat_minor": 2
}
